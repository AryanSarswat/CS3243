{
 "cells": [
  {
   "cell_type": "code",
   "execution_count": 1,
   "id": "7de65564",
   "metadata": {},
   "outputs": [],
   "source": [
    "import sys"
   ]
  },
  {
   "cell_type": "code",
   "execution_count": 4,
   "id": "badcc638",
   "metadata": {},
   "outputs": [],
   "source": [
    "with open(\"Public Testcases/2.txt\") as f:\n",
    "    lines = f.readlines()"
   ]
  },
  {
   "cell_type": "code",
   "execution_count": 6,
   "id": "255e5fe7",
   "metadata": {},
   "outputs": [
    {
     "name": "stdout",
     "output_type": "stream",
     "text": [
      "Line 0 Rows:10\n",
      "\n",
      "Line 1 Cols:10\n",
      "\n",
      "Line 2 Number of Obstacles:32\n",
      "\n",
      "Line 3 Position of Obstacles (space between):b1 c1 d1 f1 g1 h1 b2 d2 f2 h2 j2 b3 d3 f3 h3 i3 b4 c4 d4 f4 g4 h4 j4 b6 c6 d6 b7 c7 d7 b8 c8 d8\n",
      "\n",
      "Line 4 Step cost to move to selected grids (Default cost is 1) [Pos, Cost]:\n",
      "\n",
      "Line 5 [e0,2]\n",
      "\n",
      "Line 6 [e1,2]\n",
      "\n",
      "Line 7 [e2,2]\n",
      "\n",
      "Line 8 [e3,2]\n",
      "\n",
      "Line 9 [e4,2]\n",
      "\n",
      "Line 10 [e5,5]\n",
      "\n",
      "Line 11 [e6,3]\n",
      "\n",
      "Line 12 [e7,3]\n",
      "\n",
      "Line 13 [e8,3]\n",
      "\n",
      "Line 14 [e9,2]\n",
      "\n",
      "Line 15 [j3,5]\n",
      "\n",
      "Line 16 [a5,2]\n",
      "\n",
      "Line 17 [b5,2]\n",
      "\n",
      "Line 18 [c5,3]\n",
      "\n",
      "Line 19 [d5,4]\n",
      "\n",
      "Line 20 [f5,4]\n",
      "\n",
      "Line 21 [g5,3]\n",
      "\n",
      "Line 22 [h5,2]\n",
      "\n",
      "Line 23 Number of Enemy King, Queen, Bishop, Rook, Knight (space between):1 0 0 0 1\n",
      "\n",
      "Line 24 Position of Enemy Pieces:\n",
      "\n",
      "Line 25 [King,j0]\n",
      "\n",
      "Line 26 [Knight,i8]\n",
      "\n",
      "Line 27 Number of Own King, Queen, Bishop, Rook, Knight (space between):1 0 0 0 0\n",
      "\n",
      "Line 28 Starting Position of Pieces [Piece, Pos]:\n",
      "\n",
      "Line 29 [King,a0]\n",
      "\n",
      "Line 30 Goal Positions (space between):j9\n",
      "\n"
     ]
    }
   ],
   "source": [
    "for i in range(len(lines)):\n",
    "    print(f\"Line {i} {lines[i]}\")"
   ]
  },
  {
   "cell_type": "code",
   "execution_count": 7,
   "id": "1e2b91cf",
   "metadata": {},
   "outputs": [
    {
     "data": {
      "text/plain": [
       "['Rows:10\\n',\n",
       " 'Cols:10\\n',\n",
       " 'Number of Obstacles:32\\n',\n",
       " 'Position of Obstacles (space between):b1 c1 d1 f1 g1 h1 b2 d2 f2 h2 j2 b3 d3 f3 h3 i3 b4 c4 d4 f4 g4 h4 j4 b6 c6 d6 b7 c7 d7 b8 c8 d8\\n',\n",
       " 'Step cost to move to selected grids (Default cost is 1) [Pos, Cost]:\\n',\n",
       " '[e0,2]\\n',\n",
       " '[e1,2]\\n',\n",
       " '[e2,2]\\n',\n",
       " '[e3,2]\\n',\n",
       " '[e4,2]\\n',\n",
       " '[e5,5]\\n',\n",
       " '[e6,3]\\n',\n",
       " '[e7,3]\\n',\n",
       " '[e8,3]\\n',\n",
       " '[e9,2]\\n',\n",
       " '[j3,5]\\n',\n",
       " '[a5,2]\\n',\n",
       " '[b5,2]\\n',\n",
       " '[c5,3]\\n',\n",
       " '[d5,4]\\n',\n",
       " '[f5,4]\\n',\n",
       " '[g5,3]\\n',\n",
       " '[h5,2]\\n',\n",
       " 'Number of Enemy King, Queen, Bishop, Rook, Knight (space between):1 0 0 0 1\\n',\n",
       " 'Position of Enemy Pieces:\\n',\n",
       " '[King,j0]\\n',\n",
       " '[Knight,i8]\\n',\n",
       " 'Number of Own King, Queen, Bishop, Rook, Knight (space between):1 0 0 0 0\\n',\n",
       " 'Starting Position of Pieces [Piece, Pos]:\\n',\n",
       " '[King,a0]\\n',\n",
       " 'Goal Positions (space between):j9\\n']"
      ]
     },
     "execution_count": 7,
     "metadata": {},
     "output_type": "execute_result"
    }
   ],
   "source": [
    "lines"
   ]
  },
  {
   "cell_type": "code",
   "execution_count": 8,
   "id": "dd5aa344",
   "metadata": {},
   "outputs": [],
   "source": [
    "def convert_to_index(string):\n",
    "    col = string[0]\n",
    "    row = string[1]\n",
    "    return (int(row), ord(col) - ord('a'))"
   ]
  },
  {
   "cell_type": "code",
   "execution_count": 25,
   "id": "9636dfe4",
   "metadata": {},
   "outputs": [],
   "source": [
    "rows = int(lines[0][5:-1])\n",
    "columns = int(lines[1][5:-1])"
   ]
  },
  {
   "cell_type": "code",
   "execution_count": 26,
   "id": "7fd9002a",
   "metadata": {},
   "outputs": [
    {
     "data": {
      "text/plain": [
       "[(1, 1),\n",
       " (1, 2),\n",
       " (1, 3),\n",
       " (1, 5),\n",
       " (1, 6),\n",
       " (1, 7),\n",
       " (2, 1),\n",
       " (2, 3),\n",
       " (2, 5),\n",
       " (2, 7),\n",
       " (2, 9),\n",
       " (3, 1),\n",
       " (3, 3),\n",
       " (3, 5),\n",
       " (3, 7),\n",
       " (3, 8),\n",
       " (4, 1),\n",
       " (4, 2),\n",
       " (4, 3),\n",
       " (4, 5),\n",
       " (4, 6),\n",
       " (4, 7),\n",
       " (4, 9),\n",
       " (6, 1),\n",
       " (6, 2),\n",
       " (6, 3),\n",
       " (7, 1),\n",
       " (7, 2),\n",
       " (7, 3),\n",
       " (8, 1),\n",
       " (8, 2),\n",
       " (8, 3)]"
      ]
     },
     "execution_count": 26,
     "metadata": {},
     "output_type": "execute_result"
    }
   ],
   "source": [
    "list(map(convert_to_index,lines[3].split(\":\")[1][:-1].split(\" \")))"
   ]
  },
  {
   "cell_type": "code",
   "execution_count": 27,
   "id": "a7e7e8ea",
   "metadata": {},
   "outputs": [
    {
     "data": {
      "text/plain": [
       "10"
      ]
     },
     "execution_count": 27,
     "metadata": {},
     "output_type": "execute_result"
    }
   ],
   "source": [
    "rows"
   ]
  },
  {
   "cell_type": "code",
   "execution_count": 59,
   "id": "35ee72a1",
   "metadata": {},
   "outputs": [],
   "source": [
    "selected_costs = []\n",
    "start = 5\n",
    "for i in range(rows * columns):\n",
    "    index = start + i\n",
    "    if lines[index][0] != '[':\n",
    "        break\n",
    "    else:\n",
    "        loc, cost = lines[index].split(\",\")\n",
    "        selected_costs.append((convert_to_index(loc[1:]), int(cost[:-2])))"
   ]
  },
  {
   "cell_type": "code",
   "execution_count": 60,
   "id": "6060a9ba",
   "metadata": {},
   "outputs": [
    {
     "data": {
      "text/plain": [
       "((0, 4), 2)"
      ]
     },
     "execution_count": 60,
     "metadata": {},
     "output_type": "execute_result"
    }
   ],
   "source": [
    "selected_costs[0]"
   ]
  },
  {
   "cell_type": "code",
   "execution_count": 61,
   "id": "6a31b8d1",
   "metadata": {},
   "outputs": [
    {
     "data": {
      "text/plain": [
       "18"
      ]
     },
     "execution_count": 61,
     "metadata": {},
     "output_type": "execute_result"
    }
   ],
   "source": [
    "len(selected_costs)"
   ]
  },
  {
   "cell_type": "code",
   "execution_count": 37,
   "id": "898979b7",
   "metadata": {},
   "outputs": [
    {
     "data": {
      "text/plain": [
       "23"
      ]
     },
     "execution_count": 37,
     "metadata": {},
     "output_type": "execute_result"
    }
   ],
   "source": [
    "index"
   ]
  },
  {
   "cell_type": "code",
   "execution_count": 38,
   "id": "3276a64b",
   "metadata": {},
   "outputs": [
    {
     "data": {
      "text/plain": [
       "'Number of Enemy King, Queen, Bishop, Rook, Knight (space between):1 0 0 0 1\\n'"
      ]
     },
     "execution_count": 38,
     "metadata": {},
     "output_type": "execute_result"
    }
   ],
   "source": [
    "lines[index]"
   ]
  },
  {
   "cell_type": "code",
   "execution_count": 39,
   "id": "4288479e",
   "metadata": {},
   "outputs": [],
   "source": [
    "index += 2"
   ]
  },
  {
   "cell_type": "code",
   "execution_count": 40,
   "id": "d402f38d",
   "metadata": {},
   "outputs": [
    {
     "data": {
      "text/plain": [
       "'[King,j0]\\n'"
      ]
     },
     "execution_count": 40,
     "metadata": {},
     "output_type": "execute_result"
    }
   ],
   "source": [
    "lines[index]"
   ]
  },
  {
   "cell_type": "code",
   "execution_count": 53,
   "id": "cd2717c1",
   "metadata": {},
   "outputs": [],
   "source": [
    "goal_positions = list(map(convert_to_index ,lines[-1].split(\":\")[1][:-1].split(\" \")))"
   ]
  },
  {
   "cell_type": "code",
   "execution_count": 54,
   "id": "19f3f899",
   "metadata": {},
   "outputs": [
    {
     "data": {
      "text/plain": [
       "[(9, 9)]"
      ]
     },
     "execution_count": 54,
     "metadata": {},
     "output_type": "execute_result"
    }
   ],
   "source": [
    "goal_positions"
   ]
  },
  {
   "cell_type": "code",
   "execution_count": 55,
   "id": "2db131ab",
   "metadata": {},
   "outputs": [],
   "source": [
    "class Piece:\n",
    "    \n",
    "    def __init__(self, piece_name, current_position):\n",
    "        self.name = piece_name\n",
    "        self.current_position = current_position\n",
    "    \n",
    "    def possible_actions(self, board):\n",
    "        \"\"\"\n",
    "        Returns a list of possible actions for the piece.\n",
    "        \"\"\"\n",
    "        possible_actions = []\n",
    "        \n",
    "        if self.name == \"King\":\n",
    "            pass\n",
    "        elif self.name == \"Queen\":\n",
    "            pass\n",
    "        elif self.name == \"Rook\":\n",
    "            pass\n",
    "        elif self.name == \"Bishop\":\n",
    "            pass\n",
    "        elif self.name == \"Knight\":\n",
    "            pass\n",
    "        else:\n",
    "            raise Exception(\"Invalid piece name\")\n",
    "        return possible_actions"
   ]
  },
  {
   "cell_type": "code",
   "execution_count": 83,
   "id": "7ca68b3c",
   "metadata": {},
   "outputs": [],
   "source": [
    "selected_costs = []\n",
    "start = 5\n",
    "for i in range(rows * columns):\n",
    "    index = start + i\n",
    "    if lines[index][0] != '[':\n",
    "        break\n",
    "    else:\n",
    "        loc, cost = lines[index].split(\",\")\n",
    "        selected_costs.append((convert_to_index(loc[1:]), int(cost[:-2])))"
   ]
  },
  {
   "cell_type": "code",
   "execution_count": 84,
   "id": "e0037fd3",
   "metadata": {},
   "outputs": [
    {
     "name": "stdout",
     "output_type": "stream",
     "text": [
      "[King\n",
      "j0]\n",
      "\n",
      "[Knight\n",
      "i8]\n",
      "\n"
     ]
    }
   ],
   "source": [
    "enemy_pieces = []\n",
    "num_enemy_pieces = sum(map(int,lines[index].split(\":\")[1][:-1].split()))\n",
    "start =  index + 2\n",
    "for i in range(num_enemy_pieces):\n",
    "    index = start + i\n",
    "    if lines[index][0] != '[':\n",
    "        break\n",
    "    else:\n",
    "        piece_name, curr_pos = lines[index].split(\",\")\n",
    "        enemy_pieces.append(Piece(piece_name[1:], convert_to_index(curr_pos[:-2])))"
   ]
  },
  {
   "cell_type": "code",
   "execution_count": 88,
   "id": "e73eda7e",
   "metadata": {},
   "outputs": [
    {
     "data": {
      "text/plain": [
       "(0, 9)"
      ]
     },
     "execution_count": 88,
     "metadata": {},
     "output_type": "execute_result"
    }
   ],
   "source": [
    "enemy_pieces[0].name\n",
    "enemy_pieces[0].current_position"
   ]
  },
  {
   "cell_type": "code",
   "execution_count": 72,
   "id": "77ce6386",
   "metadata": {},
   "outputs": [
    {
     "data": {
      "text/plain": [
       "2"
      ]
     },
     "execution_count": 72,
     "metadata": {},
     "output_type": "execute_result"
    }
   ],
   "source": [
    "sum(map(int,lines[index].split(\":\")[1][:-1].split()))"
   ]
  },
  {
   "cell_type": "code",
   "execution_count": null,
   "id": "5b9a0533",
   "metadata": {},
   "outputs": [],
   "source": []
  }
 ],
 "metadata": {
  "kernelspec": {
   "display_name": "Python 3 (ipykernel)",
   "language": "python",
   "name": "python3"
  },
  "language_info": {
   "codemirror_mode": {
    "name": "ipython",
    "version": 3
   },
   "file_extension": ".py",
   "mimetype": "text/x-python",
   "name": "python",
   "nbconvert_exporter": "python",
   "pygments_lexer": "ipython3",
   "version": "3.9.7"
  }
 },
 "nbformat": 4,
 "nbformat_minor": 5
}
